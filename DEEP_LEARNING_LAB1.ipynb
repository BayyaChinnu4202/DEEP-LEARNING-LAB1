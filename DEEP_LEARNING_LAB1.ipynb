{
  "nbformat": 4,
  "nbformat_minor": 0,
  "metadata": {
    "colab": {
      "provenance": [],
      "authorship_tag": "ABX9TyOwj33akplzyRONsjt96IcS",
      "include_colab_link": true
    },
    "kernelspec": {
      "name": "python3",
      "display_name": "Python 3"
    },
    "language_info": {
      "name": "python"
    }
  },
  "cells": [
    {
      "cell_type": "markdown",
      "metadata": {
        "id": "view-in-github",
        "colab_type": "text"
      },
      "source": [
        "<a href=\"https://colab.research.google.com/github/BayyaChinnu4202/DEEP-LEARNING-LAB1/blob/main/DEEP_LEARNING_LAB1.ipynb\" target=\"_parent\"><img src=\"https://colab.research.google.com/assets/colab-badge.svg\" alt=\"Open In Colab\"/></a>"
      ]
    },
    {
      "cell_type": "code",
      "execution_count": 2,
      "metadata": {
        "id": "DAiQs24j8ScV"
      },
      "outputs": [],
      "source": [
        "import numpy as np\n",
        "from tensorflow.keras.datasets import mnist\n",
        "from tensorflow.keras.models import Sequential\n",
        "from tensorflow.keras.layers import Dense,Dropout\n",
        "from tensorflow.keras.utils import to_categorical"
      ]
    },
    {
      "cell_type": "code",
      "source": [
        "print(\"Loading the MNIST dataset....\")\n",
        "(x_train,y_train),(x_test,y_test)=mnist.load_data()\n",
        "print(f\"Training data shape:{x_train.shape},Training labels shape:{y_train.shape}\")\n",
        "print(f\"Testing data shape:{x_test.shape},Testing labels shape:{y_test.shape}\")"
      ],
      "metadata": {
        "colab": {
          "base_uri": "https://localhost:8080/"
        },
        "id": "1Ll_Urj-9R_c",
        "outputId": "b7dab31d-e3be-4218-cbfe-2fb856c3ff61"
      },
      "execution_count": 3,
      "outputs": [
        {
          "output_type": "stream",
          "name": "stdout",
          "text": [
            "Loading the MNIST dataset....\n",
            "Downloading data from https://storage.googleapis.com/tensorflow/tf-keras-datasets/mnist.npz\n",
            "\u001b[1m11490434/11490434\u001b[0m \u001b[32m━━━━━━━━━━━━━━━━━━━━\u001b[0m\u001b[37m\u001b[0m \u001b[1m0s\u001b[0m 0us/step\n",
            "Training data shape:(60000, 28, 28),Training labels shape:(60000,)\n",
            "Testing data shape:(10000, 28, 28),Testing labels shape:(10000,)\n"
          ]
        }
      ]
    },
    {
      "cell_type": "code",
      "source": [
        "print(\"\\nReshaping the input data....\")\n",
        "x_train = x_train.reshape(x_train.shape[0],28*28)\n",
        "x_test = x_test.reshape(x_test.shape[0],28*28)\n",
        "print(f\"Reshaped training data shape:{x_train.shape}\")\n",
        "print(f\"Reshaped testing data shape:{x_test.shape}\")"
      ],
      "metadata": {
        "colab": {
          "base_uri": "https://localhost:8080/"
        },
        "id": "5Swbpbko-MwU",
        "outputId": "c6944285-300f-4a70-b1bd-871ea62694e0"
      },
      "execution_count": 4,
      "outputs": [
        {
          "output_type": "stream",
          "name": "stdout",
          "text": [
            "\n",
            "Reshaping the input data....\n",
            "Reshaped training data shape:(60000, 784)\n",
            "Reshaped testing data shape:(10000, 784)\n"
          ]
        }
      ]
    },
    {
      "cell_type": "code",
      "source": [
        "print(\"\\nNormalizing the input data....\")\n",
        "x_train=x_train/255.0\n",
        "x_test=x_test/255.0\n",
        "print(\" Normalizing complete.pixel values are now between 0 and 1.\")"
      ],
      "metadata": {
        "colab": {
          "base_uri": "https://localhost:8080/"
        },
        "id": "VucWhimv--A8",
        "outputId": "5f1631f1-0bf5-4feb-a41c-e080bc6a0032"
      },
      "execution_count": 6,
      "outputs": [
        {
          "output_type": "stream",
          "name": "stdout",
          "text": [
            "\n",
            "Normalizing the input data....\n",
            " Normalizing complete.pixel values are now between 0 and 1.\n"
          ]
        }
      ]
    },
    {
      "cell_type": "code",
      "source": [
        "print(\"\\nOne-hot encoded the target variables....\")\n",
        "y_train=to_categorical(y_train)\n",
        "y_test=to_categorical(y_test)\n",
        "print(f\"Encoded training labels shape:{y_train.shape}\")\n",
        "print(f\"Encoded testing labels shape:{y_test.shape}\")"
      ],
      "metadata": {
        "colab": {
          "base_uri": "https://localhost:8080/"
        },
        "id": "ufoEsbUS_jFL",
        "outputId": "cae9e8ef-1453-4ef2-e0ba-300233c2474a"
      },
      "execution_count": 7,
      "outputs": [
        {
          "output_type": "stream",
          "name": "stdout",
          "text": [
            "\n",
            "One-hot encoded the target variables....\n",
            "Encoded training labels shape:(60000, 10)\n",
            "Encoded testing labels shape:(10000, 10)\n"
          ]
        }
      ]
    },
    {
      "cell_type": "code",
      "source": [
        "print(\"\\n Defining the neural network model....\")\n",
        "model=Sequential()\n",
        "model.add(Dense(512,input_shape=(784,),activation='relu'))\n",
        "model.add(Dropout(0.2))\n",
        "model.add(Dense(512,activation='relu'))\n",
        "model.add(Dropout(0.2))\n",
        "model.add(Dense(10,activation='softmax'))\n",
        "print(\"model architecture defined\")"
      ],
      "metadata": {
        "colab": {
          "base_uri": "https://localhost:8080/"
        },
        "id": "9XDogTsDANj0",
        "outputId": "092e2072-5810-41cb-b406-93c4d0dfeeb4"
      },
      "execution_count": 8,
      "outputs": [
        {
          "output_type": "stream",
          "name": "stdout",
          "text": [
            "\n",
            " Defining the neural network model....\n",
            "model architecture defined\n"
          ]
        },
        {
          "output_type": "stream",
          "name": "stderr",
          "text": [
            "/usr/local/lib/python3.10/dist-packages/keras/src/layers/core/dense.py:87: UserWarning: Do not pass an `input_shape`/`input_dim` argument to a layer. When using Sequential models, prefer using an `Input(shape)` object as the first layer in the model instead.\n",
            "  super().__init__(activity_regularizer=activity_regularizer, **kwargs)\n"
          ]
        }
      ]
    },
    {
      "cell_type": "code",
      "source": [
        "print(\"\\n Compiling the model....\")\n",
        "model.compile(loss='categorical_crossentropy',optimizer='adam',metrics=['accuracy'])\n",
        "print(\"model compiled with categorical cross-entropy loss and Adam optimizer\")"
      ],
      "metadata": {
        "colab": {
          "base_uri": "https://localhost:8080/"
        },
        "id": "p8lycKRnBMcD",
        "outputId": "ea5600e3-752b-4b0e-b7ff-cb1f28e3a3f3"
      },
      "execution_count": 9,
      "outputs": [
        {
          "output_type": "stream",
          "name": "stdout",
          "text": [
            "\n",
            " Compiling the model....\n",
            "model compiled with categorical cross-entropy loss and Adam optimizer\n"
          ]
        }
      ]
    },
    {
      "cell_type": "code",
      "source": [
        "print(\"\\nStarting training....\")\n",
        "history=model.fit(x_train,y_train,validation_data=(x_test,y_test),epochs=10,batch_size=128,verbose=1)\n",
        "print(\"Training complete\")"
      ],
      "metadata": {
        "colab": {
          "base_uri": "https://localhost:8080/"
        },
        "id": "UyZ5KxlbBvJK",
        "outputId": "7fc36b5f-ec9a-4a97-c01a-6018f06f1eca"
      },
      "execution_count": 11,
      "outputs": [
        {
          "output_type": "stream",
          "name": "stdout",
          "text": [
            "\n",
            "Starting training....\n",
            "Epoch 1/10\n",
            "\u001b[1m469/469\u001b[0m \u001b[32m━━━━━━━━━━━━━━━━━━━━\u001b[0m\u001b[37m\u001b[0m \u001b[1m12s\u001b[0m 22ms/step - accuracy: 0.5784 - loss: 1.3503 - val_accuracy: 0.8938 - val_loss: 0.3689\n",
            "Epoch 2/10\n",
            "\u001b[1m469/469\u001b[0m \u001b[32m━━━━━━━━━━━━━━━━━━━━\u001b[0m\u001b[37m\u001b[0m \u001b[1m20s\u001b[0m 20ms/step - accuracy: 0.8887 - loss: 0.3718 - val_accuracy: 0.9161 - val_loss: 0.2833\n",
            "Epoch 3/10\n",
            "\u001b[1m469/469\u001b[0m \u001b[32m━━━━━━━━━━━━━━━━━━━━\u001b[0m\u001b[37m\u001b[0m \u001b[1m9s\u001b[0m 19ms/step - accuracy: 0.9117 - loss: 0.2971 - val_accuracy: 0.9304 - val_loss: 0.2331\n",
            "Epoch 4/10\n",
            "\u001b[1m469/469\u001b[0m \u001b[32m━━━━━━━━━━━━━━━━━━━━\u001b[0m\u001b[37m\u001b[0m \u001b[1m11s\u001b[0m 21ms/step - accuracy: 0.9291 - loss: 0.2381 - val_accuracy: 0.9418 - val_loss: 0.1948\n",
            "Epoch 5/10\n",
            "\u001b[1m469/469\u001b[0m \u001b[32m━━━━━━━━━━━━━━━━━━━━\u001b[0m\u001b[37m\u001b[0m \u001b[1m10s\u001b[0m 22ms/step - accuracy: 0.9393 - loss: 0.1980 - val_accuracy: 0.9504 - val_loss: 0.1674\n",
            "Epoch 6/10\n",
            "\u001b[1m469/469\u001b[0m \u001b[32m━━━━━━━━━━━━━━━━━━━━\u001b[0m\u001b[37m\u001b[0m \u001b[1m9s\u001b[0m 18ms/step - accuracy: 0.9502 - loss: 0.1688 - val_accuracy: 0.9561 - val_loss: 0.1483\n",
            "Epoch 7/10\n",
            "\u001b[1m469/469\u001b[0m \u001b[32m━━━━━━━━━━━━━━━━━━━━\u001b[0m\u001b[37m\u001b[0m \u001b[1m10s\u001b[0m 22ms/step - accuracy: 0.9562 - loss: 0.1469 - val_accuracy: 0.9594 - val_loss: 0.1288\n",
            "Epoch 8/10\n",
            "\u001b[1m469/469\u001b[0m \u001b[32m━━━━━━━━━━━━━━━━━━━━\u001b[0m\u001b[37m\u001b[0m \u001b[1m10s\u001b[0m 21ms/step - accuracy: 0.9596 - loss: 0.1347 - val_accuracy: 0.9640 - val_loss: 0.1138\n",
            "Epoch 9/10\n",
            "\u001b[1m469/469\u001b[0m \u001b[32m━━━━━━━━━━━━━━━━━━━━\u001b[0m\u001b[37m\u001b[0m \u001b[1m9s\u001b[0m 18ms/step - accuracy: 0.9650 - loss: 0.1145 - val_accuracy: 0.9660 - val_loss: 0.1044\n",
            "Epoch 10/10\n",
            "\u001b[1m469/469\u001b[0m \u001b[32m━━━━━━━━━━━━━━━━━━━━\u001b[0m\u001b[37m\u001b[0m \u001b[1m11s\u001b[0m 20ms/step - accuracy: 0.9677 - loss: 0.1035 - val_accuracy: 0.9689 - val_loss: 0.0994\n",
            "Training complete\n"
          ]
        }
      ]
    },
    {
      "cell_type": "code",
      "source": [
        "print(\"\\nEvaluating the model on test data...\")\n",
        "scores=model.evaluate(x_test,y_test,verbose=0)\n",
        "print(f\"Test Accuracy:{scores[1]*100:.2f}%\")\n",
        "print(\"\\nTraining history:\")\n",
        "print(f\"Training accuracy:{history.history['accuracy'][-1]:.2f}\")\n",
        "print(f\"validation accuracy:{history.history['val_accuracy'][-1]:.2f}\")"
      ],
      "metadata": {
        "colab": {
          "base_uri": "https://localhost:8080/"
        },
        "id": "csN2YaPE_S8r",
        "outputId": "38701feb-d627-40ea-87df-cccc4615b051"
      },
      "execution_count": 12,
      "outputs": [
        {
          "output_type": "stream",
          "name": "stdout",
          "text": [
            "\n",
            "Evaluating the model on test data...\n",
            "Test Accuracy:96.89%\n",
            "\n",
            "Training history:\n",
            "Training accuracy:0.97\n",
            "validation accuracy:0.97\n"
          ]
        }
      ]
    }
  ]
}